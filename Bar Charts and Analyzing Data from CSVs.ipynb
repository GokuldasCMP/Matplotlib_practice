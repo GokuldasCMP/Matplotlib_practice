{
 "cells": [
  {
   "cell_type": "code",
   "execution_count": 13,
   "id": "afa844f6",
   "metadata": {},
   "outputs": [],
   "source": [
    "import numpy as np\n",
    "from matplotlib import pyplot as plt\n",
    "plt.style.use(\"fivethirtyeight\")\n",
    "import pandas as pd\n",
    "from collections import Counter"
   ]
  },
  {
   "cell_type": "code",
   "execution_count": 2,
   "id": "ec2b28c3",
   "metadata": {},
   "outputs": [
    {
     "data": {
      "text/html": [
       "<div>\n",
       "<style scoped>\n",
       "    .dataframe tbody tr th:only-of-type {\n",
       "        vertical-align: middle;\n",
       "    }\n",
       "\n",
       "    .dataframe tbody tr th {\n",
       "        vertical-align: top;\n",
       "    }\n",
       "\n",
       "    .dataframe thead th {\n",
       "        text-align: right;\n",
       "    }\n",
       "</style>\n",
       "<table border=\"1\" class=\"dataframe\">\n",
       "  <thead>\n",
       "    <tr style=\"text-align: right;\">\n",
       "      <th></th>\n",
       "      <th>Responder_id</th>\n",
       "      <th>LanguagesWorkedWith</th>\n",
       "    </tr>\n",
       "  </thead>\n",
       "  <tbody>\n",
       "    <tr>\n",
       "      <th>0</th>\n",
       "      <td>1</td>\n",
       "      <td>HTML/CSS;Java;JavaScript;Python</td>\n",
       "    </tr>\n",
       "    <tr>\n",
       "      <th>1</th>\n",
       "      <td>2</td>\n",
       "      <td>C++;HTML/CSS;Python</td>\n",
       "    </tr>\n",
       "    <tr>\n",
       "      <th>2</th>\n",
       "      <td>3</td>\n",
       "      <td>HTML/CSS</td>\n",
       "    </tr>\n",
       "    <tr>\n",
       "      <th>3</th>\n",
       "      <td>4</td>\n",
       "      <td>C;C++;C#;Python;SQL</td>\n",
       "    </tr>\n",
       "    <tr>\n",
       "      <th>4</th>\n",
       "      <td>5</td>\n",
       "      <td>C++;HTML/CSS;Java;JavaScript;Python;SQL;VBA</td>\n",
       "    </tr>\n",
       "    <tr>\n",
       "      <th>...</th>\n",
       "      <td>...</td>\n",
       "      <td>...</td>\n",
       "    </tr>\n",
       "    <tr>\n",
       "      <th>87564</th>\n",
       "      <td>88182</td>\n",
       "      <td>HTML/CSS;Java;JavaScript</td>\n",
       "    </tr>\n",
       "    <tr>\n",
       "      <th>87565</th>\n",
       "      <td>88212</td>\n",
       "      <td>HTML/CSS;JavaScript;Python</td>\n",
       "    </tr>\n",
       "    <tr>\n",
       "      <th>87566</th>\n",
       "      <td>88282</td>\n",
       "      <td>Bash/Shell/PowerShell;Go;HTML/CSS;JavaScript;W...</td>\n",
       "    </tr>\n",
       "    <tr>\n",
       "      <th>87567</th>\n",
       "      <td>88377</td>\n",
       "      <td>HTML/CSS;JavaScript;Other(s):</td>\n",
       "    </tr>\n",
       "    <tr>\n",
       "      <th>87568</th>\n",
       "      <td>88863</td>\n",
       "      <td>Bash/Shell/PowerShell;HTML/CSS;Java;JavaScript...</td>\n",
       "    </tr>\n",
       "  </tbody>\n",
       "</table>\n",
       "<p>87569 rows × 2 columns</p>\n",
       "</div>"
      ],
      "text/plain": [
       "       Responder_id                                LanguagesWorkedWith\n",
       "0                 1                    HTML/CSS;Java;JavaScript;Python\n",
       "1                 2                                C++;HTML/CSS;Python\n",
       "2                 3                                           HTML/CSS\n",
       "3                 4                                C;C++;C#;Python;SQL\n",
       "4                 5        C++;HTML/CSS;Java;JavaScript;Python;SQL;VBA\n",
       "...             ...                                                ...\n",
       "87564         88182                           HTML/CSS;Java;JavaScript\n",
       "87565         88212                         HTML/CSS;JavaScript;Python\n",
       "87566         88282  Bash/Shell/PowerShell;Go;HTML/CSS;JavaScript;W...\n",
       "87567         88377                      HTML/CSS;JavaScript;Other(s):\n",
       "87568         88863  Bash/Shell/PowerShell;HTML/CSS;Java;JavaScript...\n",
       "\n",
       "[87569 rows x 2 columns]"
      ]
     },
     "execution_count": 2,
     "metadata": {},
     "output_type": "execute_result"
    }
   ],
   "source": [
    "data=pd.read_csv(r'C:\\Users\\HP\\DataScience\\WEEK 4\\Matplotlib\\data.csv')\n",
    "data"
   ]
  },
  {
   "cell_type": "code",
   "execution_count": 15,
   "id": "70836570",
   "metadata": {},
   "outputs": [],
   "source": [
    "ids = data['Responder_id']\n",
    "lang_responses = data['LanguagesWorkedWith']\n",
    "language_counter = Counter()"
   ]
  },
  {
   "cell_type": "code",
   "execution_count": 21,
   "id": "dd2910d6",
   "metadata": {},
   "outputs": [],
   "source": [
    "for response in lang_responses:\n",
    "    language_counter.update(response.split(';'))"
   ]
  },
  {
   "cell_type": "code",
   "execution_count": 23,
   "id": "82bd3b86",
   "metadata": {},
   "outputs": [],
   "source": [
    "languages = []\n",
    "popularity = []"
   ]
  },
  {
   "cell_type": "code",
   "execution_count": 24,
   "id": "f230d602",
   "metadata": {},
   "outputs": [],
   "source": [
    "for item in language_counter.most_common(15):\n",
    "    languages.append(item[0])\n",
    "    popularity.append(item[1])\n"
   ]
  },
  {
   "cell_type": "code",
   "execution_count": 25,
   "id": "8ef42345",
   "metadata": {},
   "outputs": [
    {
     "data": {
      "text/plain": [
       "['JavaScript',\n",
       " 'HTML/CSS',\n",
       " 'SQL',\n",
       " 'Python',\n",
       " 'Java',\n",
       " 'Bash/Shell/PowerShell',\n",
       " 'C#',\n",
       " 'PHP',\n",
       " 'C++',\n",
       " 'TypeScript',\n",
       " 'C',\n",
       " 'Other(s):',\n",
       " 'Ruby',\n",
       " 'Go',\n",
       " 'Assembly']"
      ]
     },
     "execution_count": 25,
     "metadata": {},
     "output_type": "execute_result"
    }
   ],
   "source": [
    "languages"
   ]
  },
  {
   "cell_type": "code",
   "execution_count": 31,
   "id": "6835ab88",
   "metadata": {},
   "outputs": [
    {
     "data": {
      "text/plain": [
       "[118438,\n",
       " 110932,\n",
       " 95088,\n",
       " 72886,\n",
       " 71834,\n",
       " 63982,\n",
       " 54194,\n",
       " 46060,\n",
       " 41048,\n",
       " 37046,\n",
       " 36034,\n",
       " 15840,\n",
       " 14662,\n",
       " 14402,\n",
       " 11666]"
      ]
     },
     "execution_count": 31,
     "metadata": {},
     "output_type": "execute_result"
    }
   ],
   "source": [
    "popularity"
   ]
  },
  {
   "cell_type": "code",
   "execution_count": 32,
   "id": "b3bb33f7",
   "metadata": {},
   "outputs": [],
   "source": [
    "languages.reverse()\n",
    "popularity.reverse()"
   ]
  },
  {
   "cell_type": "code",
   "execution_count": 33,
   "id": "b46d81a1",
   "metadata": {},
   "outputs": [
    {
     "data": {
      "text/plain": [
       "Text(0.5, 0, 'Number of People Who Use')"
      ]
     },
     "execution_count": 33,
     "metadata": {},
     "output_type": "execute_result"
    },
    {
     "data": {
      "image/png": "[encoded data removed]",
      "text/plain": [
       "<Figure size 640x480 with 1 Axes>"
      ]
     },
     "metadata": {},
     "output_type": "display_data"
    }
   ],
   "source": [
    "plt.barh(languages,popularity)\n",
    "plt.title(\"Most Popular Languages\")\n",
    "#plt.ylabel(\"Programming Languages\")\n",
    "plt.xlabel(\"Number of People Who Use\")"
   ]
  },
  {
   "cell_type": "code",
   "execution_count": 19,
   "id": "08b7e31e",
   "metadata": {},
   "outputs": [
    {
     "data": {
      "text/plain": [
       "Counter({'HTML/CSS': 55466,\n",
       "         'Java': 35917,\n",
       "         'JavaScript': 59219,\n",
       "         'Python': 36443,\n",
       "         'C++': 20524,\n",
       "         'C': 18017,\n",
       "         'C#': 27097,\n",
       "         'SQL': 47544,\n",
       "         'VBA': 4781,\n",
       "         'R': 5048,\n",
       "         'Bash/Shell/PowerShell': 31991,\n",
       "         'Ruby': 7331,\n",
       "         'Rust': 2794,\n",
       "         'TypeScript': 18523,\n",
       "         'WebAssembly': 1015,\n",
       "         'Other(s):': 7920,\n",
       "         'Go': 7201,\n",
       "         'PHP': 23030,\n",
       "         'Assembly': 5833,\n",
       "         'Kotlin': 5620,\n",
       "         'Swift': 5744,\n",
       "         'Objective-C': 4191,\n",
       "         'Elixir': 1260,\n",
       "         'Erlang': 777,\n",
       "         'Clojure': 1254,\n",
       "         'F#': 973,\n",
       "         'Scala': 3309,\n",
       "         'Dart': 1683})"
      ]
     },
     "execution_count": 19,
     "metadata": {},
     "output_type": "execute_result"
    }
   ],
   "source": [
    "language_counter"
   ]
  },
  {
   "cell_type": "code",
   "execution_count": 20,
   "id": "3ebf5e62",
   "metadata": {},
   "outputs": [
    {
     "data": {
      "text/plain": [
       "[('JavaScript', 59219),\n",
       " ('HTML/CSS', 55466),\n",
       " ('SQL', 47544),\n",
       " ('Python', 36443),\n",
       " ('Java', 35917),\n",
       " ('Bash/Shell/PowerShell', 31991),\n",
       " ('C#', 27097),\n",
       " ('PHP', 23030),\n",
       " ('C++', 20524),\n",
       " ('TypeScript', 18523),\n",
       " ('C', 18017),\n",
       " ('Other(s):', 7920),\n",
       " ('Ruby', 7331),\n",
       " ('Go', 7201),\n",
       " ('Assembly', 5833)]"
      ]
     },
     "execution_count": 20,
     "metadata": {},
     "output_type": "execute_result"
    }
   ],
   "source": [
    "language_counter.most_common(15)"
   ]
  },
  {
   "cell_type": "code",
   "execution_count": null,
   "id": "9027058c",
   "metadata": {},
   "outputs": [],
   "source": []
  },
  {
   "cell_type": "code",
   "execution_count": null,
   "id": "a4c17902",
   "metadata": {},
   "outputs": [],
   "source": []
  },
  {
   "cell_type": "code",
   "execution_count": null,
   "id": "57b3f534",
   "metadata": {},
   "outputs": [],
   "source": []
  },
  {
   "cell_type": "code",
   "execution_count": null,
   "id": "eb652f8d",
   "metadata": {},
   "outputs": [],
   "source": []
  },
  {
   "cell_type": "code",
   "execution_count": null,
   "id": "c68e9ce9",
   "metadata": {},
   "outputs": [],
   "source": []
  }
 ],
 "metadata": {
  "kernelspec": {
   "display_name": "Python 3 (ipykernel)",
   "language": "python",
   "name": "python3"
  },
  "language_info": {
   "codemirror_mode": {
    "name": "ipython",
    "version": 3
   },
   "file_extension": ".py",
   "mimetype": "text/x-python",
   "name": "python",
   "nbconvert_exporter": "python",
   "pygments_lexer": "ipython3",
   "version": "3.9.13"
  }
 },
 "nbformat": 4,
 "nbformat_minor": 5
}
